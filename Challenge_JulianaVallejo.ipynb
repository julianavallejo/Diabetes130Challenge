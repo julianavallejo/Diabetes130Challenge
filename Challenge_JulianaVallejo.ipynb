{
 "cells": [
  {
   "cell_type": "code",
   "execution_count": null,
   "metadata": {
    "colab": {
     "base_uri": "https://localhost:8080/"
    },
    "executionInfo": {
     "elapsed": 6199,
     "status": "ok",
     "timestamp": 1733274590891,
     "user": {
      "displayName": "Juliana Vallejo",
      "userId": "02280198771152681052"
     },
     "user_tz": 300
    },
    "id": "taxdf5e8NIJh",
    "outputId": "b0b4c9bd-70f3-4a20-dc7d-b215bf0a2bc1"
   },
   "outputs": [],
   "source": [
    "#!pip install ucimlrepo"
   ]
  },
  {
   "cell_type": "code",
   "execution_count": 1,
   "metadata": {},
   "outputs": [],
   "source": [
    "import matplotlib.pyplot as plt\n",
    "import numpy as np"
   ]
  },
  {
   "cell_type": "code",
   "execution_count": 2,
   "metadata": {
    "colab": {
     "base_uri": "https://localhost:8080/"
    },
    "executionInfo": {
     "elapsed": 4947,
     "status": "ok",
     "timestamp": 1733274600487,
     "user": {
      "displayName": "Juliana Vallejo",
      "userId": "02280198771152681052"
     },
     "user_tz": 300
    },
    "id": "vP5elI-oNxrY",
    "outputId": "11078b61-f373-4984-a337-577904c6e182"
   },
   "outputs": [
    {
     "name": "stderr",
     "output_type": "stream",
     "text": [
      "C:\\Users\\vallejju\\Anaconda3\\lib\\site-packages\\IPython\\core\\interactiveshell.py:3357: DtypeWarning: Columns (10) have mixed types.Specify dtype option on import or set low_memory=False.\n",
      "  if (await self.run_code(code, result,  async_=asy)):\n",
      "C:\\Users\\vallejju\\Anaconda3\\lib\\site-packages\\pandas\\core\\indexing.py:1597: SettingWithCopyWarning: \n",
      "A value is trying to be set on a copy of a slice from a DataFrame.\n",
      "Try using .loc[row_indexer,col_indexer] = value instead\n",
      "\n",
      "See the caveats in the documentation: https://pandas.pydata.org/pandas-docs/stable/user_guide/indexing.html#returning-a-view-versus-a-copy\n",
      "  self.obj[key] = value\n",
      "C:\\Users\\vallejju\\Anaconda3\\lib\\site-packages\\pandas\\core\\indexing.py:1676: SettingWithCopyWarning: \n",
      "A value is trying to be set on a copy of a slice from a DataFrame.\n",
      "Try using .loc[row_indexer,col_indexer] = value instead\n",
      "\n",
      "See the caveats in the documentation: https://pandas.pydata.org/pandas-docs/stable/user_guide/indexing.html#returning-a-view-versus-a-copy\n",
      "  self._setitem_single_column(ilocs[0], value, pi)\n"
     ]
    }
   ],
   "source": [
    "from ucimlrepo import fetch_ucirepo\n",
    "# fetch dataset\n",
    "diabetes_130_us_hospitals_for_years_1999_2008 = fetch_ucirepo(id=296)\n",
    "# data (as pandas dataframes)\n",
    "X = diabetes_130_us_hospitals_for_years_1999_2008.data.features\n",
    "X.loc[:,'patient_nbr'] = diabetes_130_us_hospitals_for_years_1999_2008.data['ids']['patient_nbr'].copy()\n",
    "X.loc[:,'encounter_id'] = diabetes_130_us_hospitals_for_years_1999_2008.data['ids']['encounter_id'].copy()\n",
    "y = diabetes_130_us_hospitals_for_years_1999_2008.data.targets"
   ]
  },
  {
   "cell_type": "code",
   "execution_count": 3,
   "metadata": {
    "scrolled": true
   },
   "outputs": [
    {
     "data": {
      "text/plain": [
       "weight                      98569\n",
       "medical_specialty           49949\n",
       "payer_code                  40256\n",
       "race                         2273\n",
       "diag_3                       1423\n",
       "diag_2                        358\n",
       "diag_1                         21\n",
       "examide                         0\n",
       "tolbutamide                     0\n",
       "pioglitazone                    0\n",
       "rosiglitazone                   0\n",
       "acarbose                        0\n",
       "miglitol                        0\n",
       "troglitazone                    0\n",
       "tolazamide                      0\n",
       "insulin                         0\n",
       "citoglipton                     0\n",
       "glipizide                       0\n",
       "glyburide-metformin             0\n",
       "glipizide-metformin             0\n",
       "glimepiride-pioglitazone        0\n",
       "metformin-rosiglitazone         0\n",
       "metformin-pioglitazone          0\n",
       "change                          0\n",
       "diabetesMed                     0\n",
       "patient_nbr                     0\n",
       "glyburide                       0\n",
       "nateglinide                     0\n",
       "acetohexamide                   0\n",
       "number_outpatient               0\n",
       "age                             0\n",
       "admission_type_id               0\n",
       "discharge_disposition_id        0\n",
       "admission_source_id             0\n",
       "time_in_hospital                0\n",
       "num_lab_procedures              0\n",
       "num_procedures                  0\n",
       "num_medications                 0\n",
       "number_emergency                0\n",
       "glimepiride                     0\n",
       "number_inpatient                0\n",
       "number_diagnoses                0\n",
       "max_glu_serum                   0\n",
       "A1Cresult                       0\n",
       "metformin                       0\n",
       "repaglinide                     0\n",
       "gender                          0\n",
       "chlorpropamide                  0\n",
       "encounter_id                    0\n",
       "dtype: int64"
      ]
     },
     "execution_count": 3,
     "metadata": {},
     "output_type": "execute_result"
    }
   ],
   "source": [
    "# Check null/empty values for each feature\n",
    "X.isnull().sum().sort_values(ascending = False)"
   ]
  },
  {
   "cell_type": "code",
   "execution_count": 4,
   "metadata": {},
   "outputs": [
    {
     "name": "stdout",
     "output_type": "stream",
     "text": [
      "Caucasian          76099\n",
      "AfricanAmerican    19210\n",
      "NaN                 2273\n",
      "Hispanic            2037\n",
      "Other               1506\n",
      "Asian                641\n",
      "Name: race, dtype: int64\n",
      "Female             54708\n",
      "Male               47055\n",
      "Unknown/Invalid        3\n",
      "Name: gender, dtype: int64\n",
      "[70-80)     26068\n",
      "[60-70)     22483\n",
      "[50-60)     17256\n",
      "[80-90)     17197\n",
      "[40-50)      9685\n",
      "[30-40)      3775\n",
      "[90-100)     2793\n",
      "[20-30)      1657\n",
      "[10-20)       691\n",
      "[0-10)        161\n",
      "Name: age, dtype: int64\n",
      "NaN          98569\n",
      "[75-100)      1336\n",
      "[50-75)        897\n",
      "[100-125)      625\n",
      "[125-150)      145\n",
      "[25-50)         97\n",
      "[0-25)          48\n",
      "[150-175)       35\n",
      "[175-200)       11\n",
      ">200             3\n",
      "Name: weight, dtype: int64\n",
      "1    53990\n",
      "3    18869\n",
      "2    18480\n",
      "6     5291\n",
      "5     4785\n",
      "8      320\n",
      "7       21\n",
      "4       10\n",
      "Name: admission_type_id, dtype: int64\n",
      "1     60234\n",
      "3     13954\n",
      "6     12902\n",
      "18     3691\n",
      "2      2128\n",
      "22     1993\n",
      "11     1642\n",
      "5      1184\n",
      "25      989\n",
      "4       815\n",
      "7       623\n",
      "23      412\n",
      "13      399\n",
      "14      372\n",
      "28      139\n",
      "8       108\n",
      "15       63\n",
      "24       48\n",
      "9        21\n",
      "17       14\n",
      "16       11\n",
      "19        8\n",
      "10        6\n",
      "27        5\n",
      "12        3\n",
      "20        2\n",
      "Name: discharge_disposition_id, dtype: int64\n",
      "7     57494\n",
      "1     29565\n",
      "17     6781\n",
      "4      3187\n",
      "6      2264\n",
      "2      1104\n",
      "5       855\n",
      "3       187\n",
      "20      161\n",
      "9       125\n",
      "8        16\n",
      "22       12\n",
      "10        8\n",
      "11        2\n",
      "14        2\n",
      "25        2\n",
      "13        1\n",
      "Name: admission_source_id, dtype: int64\n",
      "3     17756\n",
      "2     17224\n",
      "1     14208\n",
      "4     13924\n",
      "5      9966\n",
      "6      7539\n",
      "7      5859\n",
      "8      4391\n",
      "9      3002\n",
      "10     2342\n",
      "11     1855\n",
      "12     1448\n",
      "13     1210\n",
      "14     1042\n",
      "Name: time_in_hospital, dtype: int64\n",
      "NaN    40256\n",
      "MC     32439\n",
      "HM      6274\n",
      "SP      5007\n",
      "BC      4655\n",
      "MD      3532\n",
      "CP      2533\n",
      "UN      2448\n",
      "CM      1937\n",
      "OG      1033\n",
      "PO       592\n",
      "DM       549\n",
      "CH       146\n",
      "WC       135\n",
      "OT        95\n",
      "MP        79\n",
      "SI        55\n",
      "FR         1\n",
      "Name: payer_code, dtype: int64\n",
      "NaN                              49949\n",
      "InternalMedicine                 14635\n",
      "Emergency/Trauma                  7565\n",
      "Family/GeneralPractice            7440\n",
      "Cardiology                        5352\n",
      "                                 ...  \n",
      "Pediatrics-InfectiousDiseases        1\n",
      "SportsMedicine                       1\n",
      "Proctology                           1\n",
      "Perinatology                         1\n",
      "Psychiatry-Addictive                 1\n",
      "Name: medical_specialty, Length: 73, dtype: int64\n",
      "1      3208\n",
      "43     2804\n",
      "44     2496\n",
      "45     2376\n",
      "38     2213\n",
      "       ... \n",
      "121       1\n",
      "107       1\n",
      "129       1\n",
      "126       1\n",
      "132       1\n",
      "Name: num_lab_procedures, Length: 118, dtype: int64\n",
      "0    46652\n",
      "1    20742\n",
      "2    12717\n",
      "3     9443\n",
      "6     4954\n",
      "4     4180\n",
      "5     3078\n",
      "Name: num_procedures, dtype: int64\n",
      "13    6086\n",
      "12    6004\n",
      "11    5795\n",
      "15    5792\n",
      "14    5707\n",
      "      ... \n",
      "75       2\n",
      "70       2\n",
      "81       1\n",
      "79       1\n",
      "74       1\n",
      "Name: num_medications, Length: 75, dtype: int64\n",
      "0     85027\n",
      "1      8547\n",
      "2      3594\n",
      "3      2042\n",
      "4      1099\n",
      "5       533\n",
      "6       303\n",
      "7       155\n",
      "8        98\n",
      "9        83\n",
      "10       57\n",
      "11       42\n",
      "13       31\n",
      "12       30\n",
      "14       28\n",
      "15       20\n",
      "16       15\n",
      "17        8\n",
      "20        7\n",
      "21        7\n",
      "18        5\n",
      "22        5\n",
      "24        3\n",
      "27        3\n",
      "19        3\n",
      "25        2\n",
      "26        2\n",
      "23        2\n",
      "29        2\n",
      "33        2\n",
      "35        2\n",
      "36        2\n",
      "28        1\n",
      "34        1\n",
      "37        1\n",
      "38        1\n",
      "39        1\n",
      "40        1\n",
      "42        1\n",
      "Name: number_outpatient, dtype: int64\n",
      "0     90383\n",
      "1      7677\n",
      "2      2042\n",
      "3       725\n",
      "4       374\n",
      "5       192\n",
      "6        94\n",
      "7        73\n",
      "8        50\n",
      "10       34\n",
      "9        33\n",
      "11       23\n",
      "13       12\n",
      "12       10\n",
      "22        6\n",
      "18        5\n",
      "16        5\n",
      "20        4\n",
      "19        4\n",
      "14        3\n",
      "15        3\n",
      "21        2\n",
      "25        2\n",
      "64        1\n",
      "76        1\n",
      "24        1\n",
      "28        1\n",
      "29        1\n",
      "37        1\n",
      "42        1\n",
      "46        1\n",
      "54        1\n",
      "63        1\n",
      "Name: number_emergency, dtype: int64\n",
      "0     67630\n",
      "1     19521\n",
      "2      7566\n",
      "3      3411\n",
      "4      1622\n",
      "5       812\n",
      "6       480\n",
      "7       268\n",
      "8       151\n",
      "9       111\n",
      "10       61\n",
      "11       49\n",
      "12       34\n",
      "13       20\n",
      "14       10\n",
      "15        9\n",
      "16        6\n",
      "19        2\n",
      "17        1\n",
      "18        1\n",
      "21        1\n",
      "Name: number_inpatient, dtype: int64\n",
      "428    6862\n",
      "414    6581\n",
      "786    4016\n",
      "410    3614\n",
      "486    3508\n",
      "       ... \n",
      "919       1\n",
      "915       1\n",
      "365       1\n",
      "838       1\n",
      "870       1\n",
      "Name: diag_1, Length: 717, dtype: int64\n",
      "276     6752\n",
      "428     6662\n",
      "250     6071\n",
      "427     5036\n",
      "401     3736\n",
      "        ... \n",
      "186        1\n",
      "325        1\n",
      "E915       1\n",
      "232        1\n",
      "E945       1\n",
      "Name: diag_2, Length: 749, dtype: int64\n",
      "250    11555\n",
      "401     8289\n",
      "276     5175\n",
      "428     4577\n",
      "427     3955\n",
      "       ...  \n",
      "893        1\n",
      "66         1\n",
      "674        1\n",
      "391        1\n",
      "475        1\n",
      "Name: diag_3, Length: 790, dtype: int64\n",
      "9     49474\n",
      "5     11393\n",
      "8     10616\n",
      "7     10393\n",
      "6     10161\n",
      "4      5537\n",
      "3      2835\n",
      "2      1023\n",
      "1       219\n",
      "16       45\n",
      "10       17\n",
      "13       16\n",
      "11       11\n",
      "15       10\n",
      "12        9\n",
      "14        7\n",
      "Name: number_diagnoses, dtype: int64\n",
      "None    96420\n",
      "Norm     2597\n",
      ">200     1485\n",
      ">300     1264\n",
      "Name: max_glu_serum, dtype: int64\n",
      "None    84748\n",
      ">8       8216\n",
      "Norm     4990\n",
      ">7       3812\n",
      "Name: A1Cresult, dtype: int64\n",
      "No        81778\n",
      "Steady    18346\n",
      "Up         1067\n",
      "Down        575\n",
      "Name: metformin, dtype: int64\n",
      "No        100227\n",
      "Steady      1384\n",
      "Up           110\n",
      "Down          45\n",
      "Name: repaglinide, dtype: int64\n",
      "No        101063\n",
      "Steady       668\n",
      "Up            24\n",
      "Down          11\n",
      "Name: nateglinide, dtype: int64\n",
      "No        101680\n",
      "Steady        79\n",
      "Up             6\n",
      "Down           1\n",
      "Name: chlorpropamide, dtype: int64\n",
      "No        96575\n",
      "Steady     4670\n",
      "Up          327\n",
      "Down        194\n",
      "Name: glimepiride, dtype: int64\n",
      "No        101765\n",
      "Steady         1\n",
      "Name: acetohexamide, dtype: int64\n",
      "No        89080\n",
      "Steady    11356\n",
      "Up          770\n",
      "Down        560\n",
      "Name: glipizide, dtype: int64\n",
      "No        91116\n",
      "Steady     9274\n",
      "Up          812\n",
      "Down        564\n",
      "Name: glyburide, dtype: int64\n",
      "No        101743\n",
      "Steady        23\n",
      "Name: tolbutamide, dtype: int64\n",
      "No        94438\n",
      "Steady     6976\n",
      "Up          234\n",
      "Down        118\n",
      "Name: pioglitazone, dtype: int64\n",
      "No        95401\n",
      "Steady     6100\n",
      "Up          178\n",
      "Down         87\n",
      "Name: rosiglitazone, dtype: int64\n",
      "No        101458\n",
      "Steady       295\n",
      "Up            10\n",
      "Down           3\n",
      "Name: acarbose, dtype: int64\n",
      "No        101728\n",
      "Steady        31\n",
      "Down           5\n",
      "Up             2\n",
      "Name: miglitol, dtype: int64\n",
      "No        101763\n",
      "Steady         3\n",
      "Name: troglitazone, dtype: int64\n",
      "No        101727\n",
      "Steady        38\n",
      "Up             1\n",
      "Name: tolazamide, dtype: int64\n",
      "No    101766\n",
      "Name: examide, dtype: int64\n",
      "No    101766\n",
      "Name: citoglipton, dtype: int64\n",
      "No        47383\n",
      "Steady    30849\n",
      "Down      12218\n",
      "Up        11316\n",
      "Name: insulin, dtype: int64\n",
      "No        101060\n",
      "Steady       692\n",
      "Up             8\n",
      "Down           6\n",
      "Name: glyburide-metformin, dtype: int64\n",
      "No        101753\n",
      "Steady        13\n",
      "Name: glipizide-metformin, dtype: int64\n",
      "No        101765\n",
      "Steady         1\n",
      "Name: glimepiride-pioglitazone, dtype: int64\n",
      "No        101764\n",
      "Steady         2\n",
      "Name: metformin-rosiglitazone, dtype: int64\n",
      "No        101765\n",
      "Steady         1\n",
      "Name: metformin-pioglitazone, dtype: int64\n",
      "No    54755\n",
      "Ch    47011\n",
      "Name: change, dtype: int64\n",
      "Yes    78363\n",
      "No     23403\n",
      "Name: diabetesMed, dtype: int64\n",
      "88785891    40\n",
      "43140906    28\n",
      "88227540    23\n",
      "1660293     23\n",
      "23199021    23\n",
      "            ..\n",
      "66733983     1\n",
      "20299680     1\n",
      "112545       1\n",
      "55422882     1\n",
      "35488413     1\n",
      "Name: patient_nbr, Length: 71518, dtype: int64\n",
      "77856768     1\n",
      "279188820    1\n",
      "96928116     1\n",
      "117757260    1\n",
      "166782282    1\n",
      "            ..\n",
      "390757988    1\n",
      "109989474    1\n",
      "241154934    1\n",
      "51363420     1\n",
      "96210942     1\n",
      "Name: encounter_id, Length: 101766, dtype: int64\n"
     ]
    }
   ],
   "source": [
    "# repeated observations, keep the one with more registers\n",
    "for col_name in X.columns:\n",
    "    print(X[col_name].value_counts(dropna = False))\n"
   ]
  },
  {
   "cell_type": "code",
   "execution_count": 5,
   "metadata": {},
   "outputs": [],
   "source": [
    "# drop repeated patients and keep the first appareance\n",
    "X_pre = X.drop_duplicates(subset = ['patient_nbr'])\n",
    "# weigth because missing values, payer because medical reasons on readmitting, max glu lot of none, diag3 nan, admission source a lot of categories and redundant\n",
    "X_pre = X_pre.drop(['weight', 'payer_code', 'acetohexamide', 'tolbutamide', 'examide', 'troglitazone', 'citoglipton', \n",
    "                    'glimepiride-pioglitazone', 'metformin-rosiglitazone', 'metformin-pioglitazone', 'tolazamide',\n",
    "                    'glipizide-metformin','glyburide-metformin', 'miglitol' ,'nateglinide' , 'acarbose', 'glyburide-metformin', \n",
    "                    'chlorpropamide',\n",
    "                    'max_glu_serum', 'diag_3', 'admission_source_id', 'medical_specialty',\n",
    "                    'patient_nbr', 'encounter_id'], axis=1)"
   ]
  },
  {
   "cell_type": "code",
   "execution_count": 6,
   "metadata": {},
   "outputs": [],
   "source": [
    "# race fill na and gender change a few registers from invalid to Female\n",
    "X_pre.fillna({'race':'Other'}, inplace = True)\n",
    "X_pre.gender.replace('Unknown/Invalid', 'Female', inplace = True)"
   ]
  },
  {
   "cell_type": "code",
   "execution_count": 7,
   "metadata": {},
   "outputs": [
    {
     "data": {
      "text/plain": [
       "Urg      49539\n",
       "Elec     13917\n",
       "Other     8053\n",
       "Name: admission_type_id, dtype: int64"
      ]
     },
     "execution_count": 7,
     "metadata": {},
     "output_type": "execute_result"
    }
   ],
   "source": [
    "#TODO Admision type MAY not be considered, because the 2 main reasons cover more than 50% of data (emergency/urgent)\n",
    "X_pre['admission_type_id'].value_counts(dropna = False)\n",
    "# Considering we have so little obs for Newborn we do not include this category\n",
    "# The rest are grouped in 3 categories as follow: Emergency (1), Urgent(2) and Trauma Center(7) in 'Urg', Elective remains the same, and the rest in Other\n",
    "admission_to_delete = [4]\n",
    "X_pre = X_pre[~X_pre['admission_type_id'].isin(admission_to_delete)]\n",
    "dic_admission_type = {1:'Urg',\n",
    "                     2:'Urg',\n",
    "                     3:'Elec',\n",
    "                     5:'Other',\n",
    "                     6:'Other',\n",
    "                     7:'Urg',\n",
    "                     8:'Other',}\n",
    "X_pre['admission_type_id'] = X_pre['admission_type_id'].map(dic_admission_type)\n",
    "X_pre['admission_type_id'].value_counts()"
   ]
  },
  {
   "cell_type": "code",
   "execution_count": 8,
   "metadata": {},
   "outputs": [
    {
     "data": {
      "text/plain": [
       "Home        44312\n",
       "Transfer    13616\n",
       "Home_H       8358\n",
       "Other        3678\n",
       "Name: discharge_disposition_id, dtype: int64"
      ]
     },
     "execution_count": 8,
     "metadata": {},
     "output_type": "execute_result"
    }
   ],
   "source": [
    "# Delete hospice and death people\n",
    "discharge_to_delete = [11, 13, 14, 19, 20, 21]\n",
    "X_pre = X_pre[~X_pre['discharge_disposition_id'].isin(discharge_to_delete)]\n",
    "# Regroup the rest of reasons in 4 categories:\n",
    "dic_discharge = {1:'Home',\n",
    "                2:'Transfer',\n",
    "                3:'Transfer',\n",
    "                4:'Transfer',\n",
    "                5:'Transfer',\n",
    "                6:'Home_H',\n",
    "                7:'Other',\n",
    "                8:'Home_H',\n",
    "                9:'Other',\n",
    "                10:'Other',\n",
    "                12:'Other',\n",
    "                15:'Transfer',\n",
    "                16:'Transfer',\n",
    "                17:'Transfer',\n",
    "                18:'Other',\n",
    "                22:'Transfer',\n",
    "                23:'Transfer',\n",
    "                24:'Transfer',\n",
    "                25:'Other',\n",
    "                26:'Other',\n",
    "                30:'Transfer',\n",
    "                27:'Transfer',\n",
    "                28:'Transfer',\n",
    "                29:'Transfer'}\n",
    "X_pre['discharge_disposition_id'] = X_pre['discharge_disposition_id'].map(dic_discharge)\n",
    "X_pre['discharge_disposition_id'].value_counts()"
   ]
  },
  {
   "cell_type": "code",
   "execution_count": 9,
   "metadata": {},
   "outputs": [
    {
     "data": {
      "text/plain": [
       "10      1\n",
       "11      8\n",
       "110     2\n",
       "112    45\n",
       "114     1\n",
       "       ..\n",
       "V63     6\n",
       "V67     1\n",
       "V70     1\n",
       "V71     8\n",
       "NaN    10\n",
       "Name: diag_1, Length: 694, dtype: int64"
      ]
     },
     "execution_count": 9,
     "metadata": {},
     "output_type": "execute_result"
    }
   ],
   "source": [
    "X_pre['diag_1'].value_counts(dropna = False).sort_index()"
   ]
  },
  {
   "cell_type": "code",
   "execution_count": 10,
   "metadata": {},
   "outputs": [],
   "source": [
    "def transform_diag(diag_df):\n",
    "    diag_df = diag_df.replace(to_replace ='^[EV]\\d+', value = 1000, regex = True)\n",
    "    # na as other\n",
    "    diag_df.fillna(0, inplace = True)\n",
    "    return diag_df.astype(float)\n",
    "\n",
    "def replace_in_range(x):\n",
    "    if x == 250:\n",
    "        return \"Diabetes\"\n",
    "    elif 240 <= x <= 279:\n",
    "        return \"Endocrine\"\n",
    "    elif 390 <= x <= 459:\n",
    "        return \"Circulatory\"\n",
    "    elif 460 <= x <= 519:\n",
    "        return \"Respiratory\"\n",
    "    elif 520 <= x <= 579:\n",
    "        return \"Digestive\"\n",
    "    elif 580 <= x <= 629:\n",
    "        return \"Genitourinary\"\n",
    "    elif 630 <= x <= 679:\n",
    "        return \"Musculoskeletal\"\n",
    "    elif 780 <= x <= 799:\n",
    "        return \"Ill-Defined\"\n",
    "    elif 800 <= x <= 999:\n",
    "        return \"Injury\"\n",
    "    else:\n",
    "        return \"Other\"\n",
    "    return x\n",
    "\n"
   ]
  },
  {
   "cell_type": "code",
   "execution_count": 11,
   "metadata": {},
   "outputs": [],
   "source": [
    "X_pre['diag_1'] = transform_diag(X_pre['diag_1'])\n",
    "X_pre['diag_1'] = X_pre[['diag_1']].applymap(replace_in_range)\n",
    "\n",
    "\n",
    "X_pre['diag_2'] = transform_diag(X_pre['diag_2'])\n",
    "X_pre['diag_2'] = X_pre[['diag_2']].applymap(replace_in_range)"
   ]
  },
  {
   "cell_type": "code",
   "execution_count": 12,
   "metadata": {},
   "outputs": [
    {
     "data": {
      "text/plain": [
       "Yes    53286\n",
       "No     16678\n",
       "Name: diabetesMed, dtype: int64"
      ]
     },
     "execution_count": 12,
     "metadata": {},
     "output_type": "execute_result"
    }
   ],
   "source": [
    "X_pre['diabetesMed'].value_counts()"
   ]
  },
  {
   "cell_type": "code",
   "execution_count": 13,
   "metadata": {},
   "outputs": [
    {
     "data": {
      "text/plain": [
       "None    57121\n",
       ">8       6239\n",
       "Norm     3741\n",
       ">7       2863\n",
       "Name: A1Cresult, dtype: int64"
      ]
     },
     "execution_count": 13,
     "metadata": {},
     "output_type": "execute_result"
    }
   ],
   "source": [
    "X_pre['A1Cresult'].value_counts()"
   ]
  },
  {
   "cell_type": "code",
   "execution_count": 14,
   "metadata": {},
   "outputs": [],
   "source": [
    "y_pre = y.iloc[X_pre.index,:]"
   ]
  },
  {
   "cell_type": "code",
   "execution_count": 15,
   "metadata": {},
   "outputs": [
    {
     "data": {
      "text/plain": [
       "readmitted\n",
       "NO            41468\n",
       ">30           22220\n",
       "<30            6276\n",
       "dtype: int64"
      ]
     },
     "execution_count": 15,
     "metadata": {},
     "output_type": "execute_result"
    }
   ],
   "source": [
    "y_pre.value_counts()"
   ]
  },
  {
   "cell_type": "code",
   "execution_count": 16,
   "metadata": {},
   "outputs": [],
   "source": [
    "# Group the output in two categories: readmitted or not readmitted\n",
    "y_pre = y_pre.replace(['NO', '>30', '<30'], [0,1,1])"
   ]
  },
  {
   "cell_type": "code",
   "execution_count": 17,
   "metadata": {},
   "outputs": [
    {
     "data": {
      "text/plain": [
       "readmitted\n",
       "0             41468\n",
       "1             28496\n",
       "dtype: int64"
      ]
     },
     "execution_count": 17,
     "metadata": {},
     "output_type": "execute_result"
    }
   ],
   "source": [
    "y_pre.value_counts()"
   ]
  },
  {
   "cell_type": "markdown",
   "metadata": {},
   "source": [
    "# Feature Engineering"
   ]
  },
  {
   "cell_type": "markdown",
   "metadata": {},
   "source": [
    "## One Hot Encoding"
   ]
  },
  {
   "cell_type": "code",
   "execution_count": 18,
   "metadata": {
    "scrolled": true
   },
   "outputs": [],
   "source": [
    "from sklearn.preprocessing import OneHotEncoder\n",
    "import pandas as pd\n",
    "# Reshape data to fit the encoder input\n",
    "categories_ohe = X_pre[['race', 'gender', 'admission_type_id', 'discharge_disposition_id', 'diag_1', 'diag_2']]\n",
    "encoder = OneHotEncoder(sparse_output=False)\n",
    "encoder.fit(categories_ohe)\n",
    "# Transform categories\n",
    "encoded_categories = encoder.transform(categories_ohe)\n",
    "categories_ = encoder.categories_\n",
    "feature_names = []\n",
    "for i, category in enumerate(categories_):\n",
    "    feature_name = categories_ohe.columns[i]\n",
    "    feature_names.extend([f\"{feature_name}_{cat}\" for cat in category])\n",
    "# Create a new DataFrame for encoded categories\n",
    "X_new = pd.DataFrame(encoded_categories, columns=feature_names)"
   ]
  },
  {
   "cell_type": "code",
   "execution_count": 19,
   "metadata": {},
   "outputs": [
    {
     "data": {
      "text/plain": [
       "Index(['race_AfricanAmerican', 'race_Asian', 'race_Caucasian', 'race_Hispanic',\n",
       "       'race_Other', 'gender_Female', 'gender_Male', 'admission_type_id_Elec',\n",
       "       'admission_type_id_Other', 'admission_type_id_Urg',\n",
       "       'discharge_disposition_id_Home', 'discharge_disposition_id_Home_H',\n",
       "       'discharge_disposition_id_Other', 'discharge_disposition_id_Transfer',\n",
       "       'diag_1_Circulatory', 'diag_1_Diabetes', 'diag_1_Digestive',\n",
       "       'diag_1_Endocrine', 'diag_1_Genitourinary', 'diag_1_Ill-Defined',\n",
       "       'diag_1_Injury', 'diag_1_Musculoskeletal', 'diag_1_Other',\n",
       "       'diag_1_Respiratory', 'diag_2_Circulatory', 'diag_2_Diabetes',\n",
       "       'diag_2_Digestive', 'diag_2_Endocrine', 'diag_2_Genitourinary',\n",
       "       'diag_2_Ill-Defined', 'diag_2_Injury', 'diag_2_Musculoskeletal',\n",
       "       'diag_2_Other', 'diag_2_Respiratory'],\n",
       "      dtype='object')"
      ]
     },
     "execution_count": 19,
     "metadata": {},
     "output_type": "execute_result"
    }
   ],
   "source": [
    "X_new.columns"
   ]
  },
  {
   "cell_type": "markdown",
   "metadata": {},
   "source": [
    "## Other transformations"
   ]
  },
  {
   "cell_type": "code",
   "execution_count": 20,
   "metadata": {
    "scrolled": true
   },
   "outputs": [
    {
     "name": "stdout",
     "output_type": "stream",
     "text": [
      "0    55062\n",
      "1    14902\n",
      "Name: metformin, dtype: int64\n",
      "0    69047\n",
      "1      917\n",
      "Name: repaglinide, dtype: int64\n",
      "0    66268\n",
      "1     3696\n",
      "Name: glimepiride, dtype: int64\n",
      "0    60957\n",
      "1     9007\n",
      "Name: glipizide, dtype: int64\n",
      "0    62189\n",
      "1     7775\n",
      "Name: glyburide, dtype: int64\n",
      "0    64702\n",
      "1     5262\n",
      "Name: pioglitazone, dtype: int64\n",
      "0    65303\n",
      "1     4661\n",
      "Name: rosiglitazone, dtype: int64\n",
      "1    35710\n",
      "0    34254\n",
      "Name: insulin, dtype: int64\n"
     ]
    }
   ],
   "source": [
    "# Custom encoding for the medication features\n",
    "drugs = ['metformin', 'repaglinide', 'glimepiride', 'glipizide',\n",
    "           'glyburide', 'pioglitazone', 'rosiglitazone', 'insulin']\n",
    "for col in drugs:\n",
    "    X_new[col] = X_pre[col].replace(['No','Steady','Up','Down'],[0,1,1,1]).values\n",
    "    print(X_new[col].value_counts())\n",
    "    X_new[col] = X_new[col].astype(float)"
   ]
  },
  {
   "cell_type": "code",
   "execution_count": 21,
   "metadata": {},
   "outputs": [],
   "source": [
    "# Transform the age variable to numeric, using the middle point of the given range\n",
    "unique_vals_age = X_pre.age.value_counts()\n",
    "dic_for_df = {}\n",
    "for age in unique_vals_age.index:\n",
    "    age_range = age.replace('[', '').replace(')','').split('-')\n",
    "    min_age = int(age_range[0]); max_age = int(age_range[1]); final_age = (max_age-min_age)/2 + min_age\n",
    "    dic_for_df[age] = final_age\n",
    "    #print(age, max_age, min_age, final_age)\n",
    "X_new['age'] = X_pre.age.replace(dic_for_df).values\n"
   ]
  },
  {
   "cell_type": "code",
   "execution_count": 22,
   "metadata": {},
   "outputs": [],
   "source": [
    "# Label Encoding for A1Cresult\n",
    "X_new['A1Cresult'] = X_pre['A1Cresult'].replace(['>8','>7','Norm','None'],[3,2,1,0]).values"
   ]
  },
  {
   "cell_type": "code",
   "execution_count": 23,
   "metadata": {},
   "outputs": [],
   "source": [
    "# Boolean vector for change and diabetesMed\n",
    "X_new['change'] = X_pre['change'].replace(['No','Ch'],[0,1]).values\n",
    "X_new['diabetesMed'] = X_pre['diabetesMed'].replace(['No','Yes'],[0,1]).values"
   ]
  },
  {
   "cell_type": "code",
   "execution_count": 24,
   "metadata": {
    "scrolled": true
   },
   "outputs": [],
   "source": [
    "# Scaling the numerical variables\n",
    "from sklearn.preprocessing import MinMaxScaler\n",
    "scaler = MinMaxScaler()\n",
    "num_features = ['time_in_hospital','num_lab_procedures', 'num_procedures', 'number_outpatient' , 'number_emergency',\n",
    "                  'number_inpatient', 'num_medications']\n",
    "X_num_scaled = X_pre[num_features].copy()\n",
    "scaler.fit(X_num_scaled)\n",
    "X_num_scaled = scaler.transform(X_num_scaled)\n",
    "X_num_scaled = pd.DataFrame(X_num_scaled, columns = num_features)"
   ]
  },
  {
   "cell_type": "code",
   "execution_count": 25,
   "metadata": {},
   "outputs": [],
   "source": [
    "X_new['time_in_hospital'] = X_num_scaled['time_in_hospital'].values\n",
    "X_new['num_lab_procedures'] = X_num_scaled['num_lab_procedures'].values\n",
    "X_new['num_procedures'] = X_num_scaled['num_procedures'].values\n",
    "X_new['number_outpatient'] = X_num_scaled['number_outpatient'].values\n",
    "X_new['number_emergency'] = X_num_scaled['number_emergency'].values\n",
    "X_new['number_inpatient'] = X_num_scaled['number_inpatient'].values\n",
    "X_new['num_medications'] = X_num_scaled['num_medications'].values"
   ]
  },
  {
   "cell_type": "code",
   "execution_count": 26,
   "metadata": {},
   "outputs": [
    {
     "data": {
      "text/html": [
       "<div>\n",
       "<style scoped>\n",
       "    .dataframe tbody tr th:only-of-type {\n",
       "        vertical-align: middle;\n",
       "    }\n",
       "\n",
       "    .dataframe tbody tr th {\n",
       "        vertical-align: top;\n",
       "    }\n",
       "\n",
       "    .dataframe thead th {\n",
       "        text-align: right;\n",
       "    }\n",
       "</style>\n",
       "<table border=\"1\" class=\"dataframe\">\n",
       "  <thead>\n",
       "    <tr style=\"text-align: right;\">\n",
       "      <th></th>\n",
       "      <th>time_in_hospital</th>\n",
       "      <th>num_lab_procedures</th>\n",
       "      <th>num_procedures</th>\n",
       "      <th>num_medications</th>\n",
       "      <th>number_outpatient</th>\n",
       "      <th>number_emergency</th>\n",
       "      <th>number_inpatient</th>\n",
       "    </tr>\n",
       "  </thead>\n",
       "  <tbody>\n",
       "    <tr>\n",
       "      <th>time_in_hospital</th>\n",
       "      <td>1.000000</td>\n",
       "      <td>0.332203</td>\n",
       "      <td>0.188318</td>\n",
       "      <td>0.467900</td>\n",
       "      <td>-0.015456</td>\n",
       "      <td>-0.010055</td>\n",
       "      <td>0.063951</td>\n",
       "    </tr>\n",
       "    <tr>\n",
       "      <th>num_lab_procedures</th>\n",
       "      <td>0.332203</td>\n",
       "      <td>1.000000</td>\n",
       "      <td>0.043792</td>\n",
       "      <td>0.258984</td>\n",
       "      <td>-0.008027</td>\n",
       "      <td>0.015469</td>\n",
       "      <td>0.079739</td>\n",
       "    </tr>\n",
       "    <tr>\n",
       "      <th>num_procedures</th>\n",
       "      <td>0.188318</td>\n",
       "      <td>0.043792</td>\n",
       "      <td>1.000000</td>\n",
       "      <td>0.400918</td>\n",
       "      <td>-0.018676</td>\n",
       "      <td>-0.035388</td>\n",
       "      <td>-0.023699</td>\n",
       "    </tr>\n",
       "    <tr>\n",
       "      <th>num_medications</th>\n",
       "      <td>0.467900</td>\n",
       "      <td>0.258984</td>\n",
       "      <td>0.400918</td>\n",
       "      <td>1.000000</td>\n",
       "      <td>0.027006</td>\n",
       "      <td>0.003180</td>\n",
       "      <td>0.039357</td>\n",
       "    </tr>\n",
       "    <tr>\n",
       "      <th>number_outpatient</th>\n",
       "      <td>-0.015456</td>\n",
       "      <td>-0.008027</td>\n",
       "      <td>-0.018676</td>\n",
       "      <td>0.027006</td>\n",
       "      <td>1.000000</td>\n",
       "      <td>0.094850</td>\n",
       "      <td>0.068752</td>\n",
       "    </tr>\n",
       "    <tr>\n",
       "      <th>number_emergency</th>\n",
       "      <td>-0.010055</td>\n",
       "      <td>0.015469</td>\n",
       "      <td>-0.035388</td>\n",
       "      <td>0.003180</td>\n",
       "      <td>0.094850</td>\n",
       "      <td>1.000000</td>\n",
       "      <td>0.147723</td>\n",
       "    </tr>\n",
       "    <tr>\n",
       "      <th>number_inpatient</th>\n",
       "      <td>0.063951</td>\n",
       "      <td>0.079739</td>\n",
       "      <td>-0.023699</td>\n",
       "      <td>0.039357</td>\n",
       "      <td>0.068752</td>\n",
       "      <td>0.147723</td>\n",
       "      <td>1.000000</td>\n",
       "    </tr>\n",
       "  </tbody>\n",
       "</table>\n",
       "</div>"
      ],
      "text/plain": [
       "                    time_in_hospital  num_lab_procedures  num_procedures  \\\n",
       "time_in_hospital            1.000000            0.332203        0.188318   \n",
       "num_lab_procedures          0.332203            1.000000        0.043792   \n",
       "num_procedures              0.188318            0.043792        1.000000   \n",
       "num_medications             0.467900            0.258984        0.400918   \n",
       "number_outpatient          -0.015456           -0.008027       -0.018676   \n",
       "number_emergency           -0.010055            0.015469       -0.035388   \n",
       "number_inpatient            0.063951            0.079739       -0.023699   \n",
       "\n",
       "                    num_medications  number_outpatient  number_emergency  \\\n",
       "time_in_hospital           0.467900          -0.015456         -0.010055   \n",
       "num_lab_procedures         0.258984          -0.008027          0.015469   \n",
       "num_procedures             0.400918          -0.018676         -0.035388   \n",
       "num_medications            1.000000           0.027006          0.003180   \n",
       "number_outpatient          0.027006           1.000000          0.094850   \n",
       "number_emergency           0.003180           0.094850          1.000000   \n",
       "number_inpatient           0.039357           0.068752          0.147723   \n",
       "\n",
       "                    number_inpatient  \n",
       "time_in_hospital            0.063951  \n",
       "num_lab_procedures          0.079739  \n",
       "num_procedures             -0.023699  \n",
       "num_medications             0.039357  \n",
       "number_outpatient           0.068752  \n",
       "number_emergency            0.147723  \n",
       "number_inpatient            1.000000  "
      ]
     },
     "execution_count": 26,
     "metadata": {},
     "output_type": "execute_result"
    }
   ],
   "source": [
    "X_new[['time_in_hospital','num_lab_procedures','num_procedures', \n",
    "       'num_medications','number_outpatient', 'number_emergency','number_inpatient']].corr()"
   ]
  },
  {
   "cell_type": "markdown",
   "metadata": {},
   "source": [
    "# Metrics for models comparison"
   ]
  },
  {
   "cell_type": "code",
   "execution_count": 40,
   "metadata": {},
   "outputs": [],
   "source": [
    "#from sklearn.metrics import confusion_matrix, accuracy_score,f1_score,recall_score,mean_squared_error, r2_score, roc_auc_score, roc_curve, classification_report\n",
    "#from sklearn.metrics import classification_report\n",
    "#import sklearn.metrics as metrics\n",
    "#from sklearn.metrics import precision_recall_fscore_support\n",
    "from sklearn.metrics import roc_auc_score, accuracy_score, precision_score, recall_score,f1_score\n",
    "\n",
    "def get_scores(y_actual, y_pred, thresh = 0.5):\n",
    "    auc = roc_auc_score(y_actual, y_pred)\n",
    "    accuracy = accuracy_score(y_actual, (y_pred > thresh))\n",
    "    recall = recall_score(y_actual, (y_pred > thresh))\n",
    "    precision = precision_score(y_actual, (y_pred > thresh))\n",
    "    fscore = f1_score(y_actual,(y_pred > thresh) )\n",
    "    print('AUC:%.3f'%auc)\n",
    "    print('accuracy:%.3f'%accuracy)\n",
    "    print('recall:%.3f'%recall)\n",
    "    print('precision:%.3f'%precision)\n",
    "    print('fscore:%.3f'%fscore)\n",
    "    print(' ')\n",
    "    return auc, accuracy, recall, precision,fscore"
   ]
  },
  {
   "cell_type": "markdown",
   "metadata": {},
   "source": [
    "# Data split"
   ]
  },
  {
   "cell_type": "code",
   "execution_count": 41,
   "metadata": {},
   "outputs": [],
   "source": [
    "from sklearn.model_selection import train_test_split\n",
    "X_train, X_test, y_train, y_test = train_test_split(X_new.to_numpy(), y_pre.values.ravel(), test_size = 0.3, random_state = 42)"
   ]
  },
  {
   "cell_type": "markdown",
   "metadata": {},
   "source": [
    "# PCA"
   ]
  },
  {
   "cell_type": "code",
   "execution_count": 42,
   "metadata": {
    "scrolled": true
   },
   "outputs": [
    {
     "data": {
      "image/png": "[encoded data removed]",
      "text/plain": [
       "<Figure size 720x432 with 1 Axes>"
      ]
     },
     "metadata": {
      "needs_background": "light"
     },
     "output_type": "display_data"
    },
    {
     "name": "stdout",
     "output_type": "stream",
     "text": [
      "Feature importance for the first PC:\n",
      "A1Cresult                             0.134445\n",
      "discharge_disposition_id_Home         0.134392\n",
      "diag_1_Endocrine                      0.061688\n",
      "race_AfricanAmerican                  0.060133\n",
      "diag_2_Endocrine                      0.046445\n",
      "insulin                               0.046430\n",
      "gender_Male                           0.026007\n",
      "diag_2_Other                          0.024346\n",
      "metformin                             0.020825\n",
      "diag_1_Musculoskeletal                0.018367\n",
      "change                                0.015735\n",
      "diag_2_Diabetes                       0.014955\n",
      "diag_2_Musculoskeletal                0.011260\n",
      "admission_type_id_Elec                0.011250\n",
      "race_Hispanic                         0.010027\n",
      "diabetesMed                           0.009653\n",
      "diag_1_Ill-Defined                    0.008149\n",
      "num_procedures                        0.006311\n",
      "diag_1_Other                          0.005324\n",
      "discharge_disposition_id_Other        0.004559\n",
      "diag_2_Digestive                      0.004137\n",
      "race_Other                            0.003138\n",
      "diag_1_Digestive                      0.002890\n",
      "diag_1_Diabetes                       0.002787\n",
      "diag_2_Ill-Defined                    0.000991\n",
      "number_emergency                      0.000628\n",
      "diag_2_Injury                         0.000479\n",
      "race_Asian                           -0.000032\n",
      "number_inpatient                     -0.000551\n",
      "number_outpatient                    -0.000647\n",
      "rosiglitazone                        -0.001126\n",
      "admission_type_id_Other              -0.002860\n",
      "num_lab_procedures                   -0.003306\n",
      "pioglitazone                         -0.004857\n",
      "repaglinide                          -0.004940\n",
      "num_medications                      -0.005475\n",
      "diag_1_Genitourinary                 -0.006241\n",
      "admission_type_id_Urg                -0.008391\n",
      "glimepiride                          -0.008656\n",
      "diag_1_Injury                        -0.010867\n",
      "diag_2_Genitourinary                 -0.012812\n",
      "diag_2_Respiratory                   -0.016878\n",
      "glipizide                            -0.018388\n",
      "diag_1_Respiratory                   -0.020497\n",
      "gender_Female                        -0.026007\n",
      "glyburide                            -0.026490\n",
      "time_in_hospital                     -0.028162\n",
      "discharge_disposition_id_Home_H      -0.028644\n",
      "diag_1_Circulatory                   -0.061600\n",
      "diag_2_Circulatory                   -0.072922\n",
      "race_Caucasian                       -0.073265\n",
      "discharge_disposition_id_Transfer    -0.110307\n",
      "age                                 -15.998365\n",
      "Name: PC1, dtype: float64\n"
     ]
    }
   ],
   "source": [
    "from sklearn.decomposition import PCA\n",
    "\n",
    "# Apply PCA\n",
    "pca = PCA(n_components=X_train.shape[1])\n",
    "X_pca = pca.fit_transform(X_train)\n",
    "\n",
    "# Get the explained variance ratio for each principal component\n",
    "explained_variance = pca.explained_variance_ratio_\n",
    "\n",
    "# Create a bar plot of the explained variance ratio\n",
    "plt.figure(figsize=(10, 6))\n",
    "plt.bar(range(1, len(explained_variance) + 1), explained_variance, align='center')\n",
    "plt.xlabel('PCA')\n",
    "plt.ylabel('Explained VarRatio')\n",
    "plt.title('Explained VarRatio of PC')\n",
    "plt.show()\n",
    "\n",
    "# Get the loadings (feature importance) for each principal component\n",
    "loadings = pca.components_.T * np.sqrt(pca.explained_variance_)\n",
    "\n",
    "# Create a DataFrame for the loadings\n",
    "loadings_df = pd.DataFrame(loadings, columns=[f'PC{i+1}' for i in range(loadings.shape[1])], index=X_new.columns)\n",
    "\n",
    "# Display the loadings for the first principal component (PC1)\n",
    "print(\"Feature importance for the first PC:\")\n",
    "print(loadings_df['PC1'].sort_values(ascending=False))"
   ]
  },
  {
   "cell_type": "markdown",
   "metadata": {},
   "source": [
    "# Logistic Regression"
   ]
  },
  {
   "cell_type": "code",
   "execution_count": 43,
   "metadata": {},
   "outputs": [],
   "source": [
    "from sklearn.linear_model import LogisticRegression\n",
    "log_reg = LogisticRegression(solver = \"liblinear\").fit(X_train, y_train)"
   ]
  },
  {
   "cell_type": "code",
   "execution_count": 44,
   "metadata": {},
   "outputs": [
    {
     "data": {
      "image/png": "[encoded data removed]",
      "text/plain": [
       "<Figure size 720x432 with 1 Axes>"
      ]
     },
     "metadata": {
      "needs_background": "light"
     },
     "output_type": "display_data"
    }
   ],
   "source": [
    "# Get the coefficients and feature names\n",
    "coefficients = log_reg.coef_[0]\n",
    "feature_names = X_new.columns\n",
    "\n",
    "# Create a bar plot of the top 5 coefficients\n",
    "top_indices = np.argsort(np.abs(coefficients))[::-1][:5]\n",
    "plt.figure(figsize=(10, 6))\n",
    "plt.bar(range(5), coefficients[top_indices])\n",
    "plt.xticks(range(5), feature_names[top_indices], rotation=90)\n",
    "plt.xlabel('Features')\n",
    "plt.ylabel('Coefficient Value')\n",
    "plt.title('Top 5 Feature Importance in Logistic Regression')\n",
    "plt.show()"
   ]
  },
  {
   "cell_type": "code",
   "execution_count": 45,
   "metadata": {
    "scrolled": true
   },
   "outputs": [
    {
     "name": "stdout",
     "output_type": "stream",
     "text": [
      "Training:\n",
      "AUC:0.628\n",
      "accuracy:0.622\n",
      "recall:0.221\n",
      "precision:0.595\n",
      "fscore:0.322\n",
      " \n",
      "Validation:\n",
      "AUC:0.627\n",
      "accuracy:0.622\n",
      "recall:0.226\n",
      "precision:0.601\n",
      "fscore:0.328\n",
      " \n"
     ]
    }
   ],
   "source": [
    "y_train_preds = log_reg.predict_proba(X_train)[:,1]\n",
    "y_test_preds = log_reg.predict_proba(X_test)[:,1]\n",
    "\n",
    "print('Training:')\n",
    "lr_train_auc, lr_train_accuracy, lr_train_recall, \\\n",
    "    lr_train_precision, lr_train_fscore = get_scores(y_train,y_train_preds)\n",
    "print('Validation:')\n",
    "lr_test_auc, lr_test_accuracy, lr_test_recall, \\\n",
    "    lr_test_precision,lr_test_fscore = get_scores(y_test,y_test_preds)"
   ]
  },
  {
   "cell_type": "markdown",
   "metadata": {},
   "source": [
    "# Decision Tree"
   ]
  },
  {
   "cell_type": "code",
   "execution_count": 46,
   "metadata": {},
   "outputs": [],
   "source": [
    "from sklearn.tree import DecisionTreeClassifier"
   ]
  },
  {
   "cell_type": "code",
   "execution_count": 47,
   "metadata": {},
   "outputs": [],
   "source": [
    "depths = [2, 4, 6, 8, 10]\n",
    "acc_list =[]\n",
    "for i, d in enumerate(depths):\n",
    "    model = DecisionTreeClassifier(random_state = 18, criterion = 'entropy', max_depth = d)\n",
    "    model.fit(X_train, y_train)\n",
    "    y_pred = model.predict(X_test)\n",
    "    acc_list.append(accuracy_score(y_test, y_pred))"
   ]
  },
  {
   "cell_type": "code",
   "execution_count": 48,
   "metadata": {},
   "outputs": [
    {
     "data": {
      "image/png": "[encoded data removed]",
      "text/plain": [
       "<Figure size 432x288 with 1 Axes>"
      ]
     },
     "metadata": {
      "needs_background": "light"
     },
     "output_type": "display_data"
    }
   ],
   "source": [
    "plt.figure()\n",
    "plt.plot(depths, acc_list)\n",
    "plt.ylabel('Accuracy')\n",
    "plt.xlabel('Max Depth')\n",
    "plt.title('Decision Tree Accuracy')\n",
    "plt.show()"
   ]
  },
  {
   "cell_type": "code",
   "execution_count": 49,
   "metadata": {},
   "outputs": [
    {
     "data": {
      "text/html": [
       "<style>#sk-container-id-2 {color: black;}#sk-container-id-2 pre{padding: 0;}#sk-container-id-2 div.sk-toggleable {background-color: white;}#sk-container-id-2 label.sk-toggleable__label {cursor: pointer;display: block;width: 100%;margin-bottom: 0;padding: 0.3em;box-sizing: border-box;text-align: center;}#sk-container-id-2 label.sk-toggleable__label-arrow:before {content: \"▸\";float: left;margin-right: 0.25em;color: #696969;}#sk-container-id-2 label.sk-toggleable__label-arrow:hover:before {color: black;}#sk-container-id-2 div.sk-estimator:hover label.sk-toggleable__label-arrow:before {color: black;}#sk-container-id-2 div.sk-toggleable__content {max-height: 0;max-width: 0;overflow: hidden;text-align: left;background-color: #f0f8ff;}#sk-container-id-2 div.sk-toggleable__content pre {margin: 0.2em;color: black;border-radius: 0.25em;background-color: #f0f8ff;}#sk-container-id-2 input.sk-toggleable__control:checked~div.sk-toggleable__content {max-height: 200px;max-width: 100%;overflow: auto;}#sk-container-id-2 input.sk-toggleable__control:checked~label.sk-toggleable__label-arrow:before {content: \"▾\";}#sk-container-id-2 div.sk-estimator input.sk-toggleable__control:checked~label.sk-toggleable__label {background-color: #d4ebff;}#sk-container-id-2 div.sk-label input.sk-toggleable__control:checked~label.sk-toggleable__label {background-color: #d4ebff;}#sk-container-id-2 input.sk-hidden--visually {border: 0;clip: rect(1px 1px 1px 1px);clip: rect(1px, 1px, 1px, 1px);height: 1px;margin: -1px;overflow: hidden;padding: 0;position: absolute;width: 1px;}#sk-container-id-2 div.sk-estimator {font-family: monospace;background-color: #f0f8ff;border: 1px dotted black;border-radius: 0.25em;box-sizing: border-box;margin-bottom: 0.5em;}#sk-container-id-2 div.sk-estimator:hover {background-color: #d4ebff;}#sk-container-id-2 div.sk-parallel-item::after {content: \"\";width: 100%;border-bottom: 1px solid gray;flex-grow: 1;}#sk-container-id-2 div.sk-label:hover label.sk-toggleable__label {background-color: #d4ebff;}#sk-container-id-2 div.sk-serial::before {content: \"\";position: absolute;border-left: 1px solid gray;box-sizing: border-box;top: 0;bottom: 0;left: 50%;z-index: 0;}#sk-container-id-2 div.sk-serial {display: flex;flex-direction: column;align-items: center;background-color: white;padding-right: 0.2em;padding-left: 0.2em;position: relative;}#sk-container-id-2 div.sk-item {position: relative;z-index: 1;}#sk-container-id-2 div.sk-parallel {display: flex;align-items: stretch;justify-content: center;background-color: white;position: relative;}#sk-container-id-2 div.sk-item::before, #sk-container-id-2 div.sk-parallel-item::before {content: \"\";position: absolute;border-left: 1px solid gray;box-sizing: border-box;top: 0;bottom: 0;left: 50%;z-index: -1;}#sk-container-id-2 div.sk-parallel-item {display: flex;flex-direction: column;z-index: 1;position: relative;background-color: white;}#sk-container-id-2 div.sk-parallel-item:first-child::after {align-self: flex-end;width: 50%;}#sk-container-id-2 div.sk-parallel-item:last-child::after {align-self: flex-start;width: 50%;}#sk-container-id-2 div.sk-parallel-item:only-child::after {width: 0;}#sk-container-id-2 div.sk-dashed-wrapped {border: 1px dashed gray;margin: 0 0.4em 0.5em 0.4em;box-sizing: border-box;padding-bottom: 0.4em;background-color: white;}#sk-container-id-2 div.sk-label label {font-family: monospace;font-weight: bold;display: inline-block;line-height: 1.2em;}#sk-container-id-2 div.sk-label-container {text-align: center;}#sk-container-id-2 div.sk-container {/* jupyter's `normalize.less` sets `[hidden] { display: none; }` but bootstrap.min.css set `[hidden] { display: none !important; }` so we also need the `!important` here to be able to override the default hidden behavior on the sphinx rendered scikit-learn.org. See: https://github.com/scikit-learn/scikit-learn/issues/21755 */display: inline-block !important;position: relative;}#sk-container-id-2 div.sk-text-repr-fallback {display: none;}</style><div id=\"sk-container-id-2\" class=\"sk-top-container\"><div class=\"sk-text-repr-fallback\"><pre>DecisionTreeClassifier(max_depth=6, random_state=18)</pre><b>In a Jupyter environment, please rerun this cell to show the HTML representation or trust the notebook. <br />On GitHub, the HTML representation is unable to render, please try loading this page with nbviewer.org.</b></div><div class=\"sk-container\" hidden><div class=\"sk-item\"><div class=\"sk-estimator sk-toggleable\"><input class=\"sk-toggleable__control sk-hidden--visually\" id=\"sk-estimator-id-2\" type=\"checkbox\" checked><label for=\"sk-estimator-id-2\" class=\"sk-toggleable__label sk-toggleable__label-arrow\">DecisionTreeClassifier</label><div class=\"sk-toggleable__content\"><pre>DecisionTreeClassifier(max_depth=6, random_state=18)</pre></div></div></div></div></div>"
      ],
      "text/plain": [
       "DecisionTreeClassifier(max_depth=6, random_state=18)"
      ]
     },
     "execution_count": 49,
     "metadata": {},
     "output_type": "execute_result"
    }
   ],
   "source": [
    "dt_model = DecisionTreeClassifier(random_state = 18, max_depth = 6)\n",
    "dt_model.fit(X_train, y_train)"
   ]
  },
  {
   "cell_type": "code",
   "execution_count": 50,
   "metadata": {},
   "outputs": [
    {
     "data": {
      "image/png": "[encoded data removed]",
      "text/plain": [
       "<Figure size 720x432 with 1 Axes>"
      ]
     },
     "metadata": {
      "needs_background": "light"
     },
     "output_type": "display_data"
    }
   ],
   "source": [
    "# Get the feature importances and feature names\n",
    "importances = dt_model.feature_importances_\n",
    "feature_names = X_new.columns\n",
    "\n",
    "# Get the indices of the features sorted by importance\n",
    "indices = np.argsort(importances)[::-1]\n",
    "\n",
    "# Get the indices of the top 5 features sorted by importance\n",
    "top_indices = np.argsort(importances)[::-1][:5]\n",
    "\n",
    "# Create a bar plot of the top 5 feature importances\n",
    "plt.figure(figsize=(10, 6))\n",
    "plt.bar(range(5), importances[top_indices], align='center')\n",
    "plt.xticks(range(5), feature_names[top_indices], rotation=90)\n",
    "plt.xlabel('Features')\n",
    "plt.ylabel('Importance')\n",
    "plt.title('Top 5 Feature Importance in Decision Tree')\n",
    "plt.show()"
   ]
  },
  {
   "cell_type": "code",
   "execution_count": 51,
   "metadata": {},
   "outputs": [
    {
     "name": "stdout",
     "output_type": "stream",
     "text": [
      "Training:\n",
      "AUC:0.623\n",
      "accuracy:0.630\n",
      "recall:0.266\n",
      "precision:0.601\n",
      "fscore:0.369\n",
      " \n",
      "Validation:\n",
      "AUC:0.613\n",
      "accuracy:0.621\n",
      "recall:0.261\n",
      "precision:0.579\n",
      "fscore:0.360\n",
      " \n"
     ]
    }
   ],
   "source": [
    "y_train_preds = dt_model.predict_proba(X_train)[:,1]\n",
    "y_test_preds = dt_model.predict_proba(X_test)[:,1]\n",
    "\n",
    "print('Training:')\n",
    "lr_train_auc, lr_train_accuracy, lr_train_recall, \\\n",
    "    lr_train_precision, lr_train_fscore = get_scores(y_train,y_train_preds)\n",
    "print('Validation:')\n",
    "lr_test_auc, lr_test_accuracy, lr_test_recall, \\\n",
    "    lr_test_precision,lr_test_fscore = get_scores(y_test,y_test_preds)"
   ]
  },
  {
   "cell_type": "markdown",
   "metadata": {},
   "source": [
    "# Random Forest"
   ]
  },
  {
   "cell_type": "code",
   "execution_count": 52,
   "metadata": {},
   "outputs": [],
   "source": [
    "from sklearn.ensemble import RandomForestClassifier\n"
   ]
  },
  {
   "cell_type": "code",
   "execution_count": 55,
   "metadata": {},
   "outputs": [],
   "source": [
    "n_est = [100, 200, 300, 400, 500]\n",
    "acc_list_rf =[]\n",
    "for i, trees in enumerate(n_est):\n",
    "    model = RandomForestClassifier(n_estimators=trees, criterion='entropy', max_depth=3, n_jobs=4, random_state = 42)\n",
    "    model.fit(X_train, y_train)\n",
    "    y_pred = model.predict(X_test)\n",
    "    acc_list_rf.append(accuracy_score(y_test, y_pred))"
   ]
  },
  {
   "cell_type": "code",
   "execution_count": 56,
   "metadata": {},
   "outputs": [
    {
     "data": {
      "image/png": "[encoded data removed]",
      "text/plain": [
       "<Figure size 432x288 with 1 Axes>"
      ]
     },
     "metadata": {
      "needs_background": "light"
     },
     "output_type": "display_data"
    }
   ],
   "source": [
    "plt.figure()\n",
    "plt.plot(n_est, acc_list_rf)\n",
    "plt.ylabel('Accuracy')\n",
    "plt.xlabel('Number of trees')\n",
    "plt.title('RandomForestClassifier Accuracy')\n",
    "plt.show()"
   ]
  },
  {
   "cell_type": "code",
   "execution_count": 57,
   "metadata": {},
   "outputs": [
    {
     "data": {
      "text/html": [
       "<style>#sk-container-id-3 {color: black;}#sk-container-id-3 pre{padding: 0;}#sk-container-id-3 div.sk-toggleable {background-color: white;}#sk-container-id-3 label.sk-toggleable__label {cursor: pointer;display: block;width: 100%;margin-bottom: 0;padding: 0.3em;box-sizing: border-box;text-align: center;}#sk-container-id-3 label.sk-toggleable__label-arrow:before {content: \"▸\";float: left;margin-right: 0.25em;color: #696969;}#sk-container-id-3 label.sk-toggleable__label-arrow:hover:before {color: black;}#sk-container-id-3 div.sk-estimator:hover label.sk-toggleable__label-arrow:before {color: black;}#sk-container-id-3 div.sk-toggleable__content {max-height: 0;max-width: 0;overflow: hidden;text-align: left;background-color: #f0f8ff;}#sk-container-id-3 div.sk-toggleable__content pre {margin: 0.2em;color: black;border-radius: 0.25em;background-color: #f0f8ff;}#sk-container-id-3 input.sk-toggleable__control:checked~div.sk-toggleable__content {max-height: 200px;max-width: 100%;overflow: auto;}#sk-container-id-3 input.sk-toggleable__control:checked~label.sk-toggleable__label-arrow:before {content: \"▾\";}#sk-container-id-3 div.sk-estimator input.sk-toggleable__control:checked~label.sk-toggleable__label {background-color: #d4ebff;}#sk-container-id-3 div.sk-label input.sk-toggleable__control:checked~label.sk-toggleable__label {background-color: #d4ebff;}#sk-container-id-3 input.sk-hidden--visually {border: 0;clip: rect(1px 1px 1px 1px);clip: rect(1px, 1px, 1px, 1px);height: 1px;margin: -1px;overflow: hidden;padding: 0;position: absolute;width: 1px;}#sk-container-id-3 div.sk-estimator {font-family: monospace;background-color: #f0f8ff;border: 1px dotted black;border-radius: 0.25em;box-sizing: border-box;margin-bottom: 0.5em;}#sk-container-id-3 div.sk-estimator:hover {background-color: #d4ebff;}#sk-container-id-3 div.sk-parallel-item::after {content: \"\";width: 100%;border-bottom: 1px solid gray;flex-grow: 1;}#sk-container-id-3 div.sk-label:hover label.sk-toggleable__label {background-color: #d4ebff;}#sk-container-id-3 div.sk-serial::before {content: \"\";position: absolute;border-left: 1px solid gray;box-sizing: border-box;top: 0;bottom: 0;left: 50%;z-index: 0;}#sk-container-id-3 div.sk-serial {display: flex;flex-direction: column;align-items: center;background-color: white;padding-right: 0.2em;padding-left: 0.2em;position: relative;}#sk-container-id-3 div.sk-item {position: relative;z-index: 1;}#sk-container-id-3 div.sk-parallel {display: flex;align-items: stretch;justify-content: center;background-color: white;position: relative;}#sk-container-id-3 div.sk-item::before, #sk-container-id-3 div.sk-parallel-item::before {content: \"\";position: absolute;border-left: 1px solid gray;box-sizing: border-box;top: 0;bottom: 0;left: 50%;z-index: -1;}#sk-container-id-3 div.sk-parallel-item {display: flex;flex-direction: column;z-index: 1;position: relative;background-color: white;}#sk-container-id-3 div.sk-parallel-item:first-child::after {align-self: flex-end;width: 50%;}#sk-container-id-3 div.sk-parallel-item:last-child::after {align-self: flex-start;width: 50%;}#sk-container-id-3 div.sk-parallel-item:only-child::after {width: 0;}#sk-container-id-3 div.sk-dashed-wrapped {border: 1px dashed gray;margin: 0 0.4em 0.5em 0.4em;box-sizing: border-box;padding-bottom: 0.4em;background-color: white;}#sk-container-id-3 div.sk-label label {font-family: monospace;font-weight: bold;display: inline-block;line-height: 1.2em;}#sk-container-id-3 div.sk-label-container {text-align: center;}#sk-container-id-3 div.sk-container {/* jupyter's `normalize.less` sets `[hidden] { display: none; }` but bootstrap.min.css set `[hidden] { display: none !important; }` so we also need the `!important` here to be able to override the default hidden behavior on the sphinx rendered scikit-learn.org. See: https://github.com/scikit-learn/scikit-learn/issues/21755 */display: inline-block !important;position: relative;}#sk-container-id-3 div.sk-text-repr-fallback {display: none;}</style><div id=\"sk-container-id-3\" class=\"sk-top-container\"><div class=\"sk-text-repr-fallback\"><pre>RandomForestClassifier(criterion=&#x27;entropy&#x27;, max_depth=3, n_jobs=4)</pre><b>In a Jupyter environment, please rerun this cell to show the HTML representation or trust the notebook. <br />On GitHub, the HTML representation is unable to render, please try loading this page with nbviewer.org.</b></div><div class=\"sk-container\" hidden><div class=\"sk-item\"><div class=\"sk-estimator sk-toggleable\"><input class=\"sk-toggleable__control sk-hidden--visually\" id=\"sk-estimator-id-3\" type=\"checkbox\" checked><label for=\"sk-estimator-id-3\" class=\"sk-toggleable__label sk-toggleable__label-arrow\">RandomForestClassifier</label><div class=\"sk-toggleable__content\"><pre>RandomForestClassifier(criterion=&#x27;entropy&#x27;, max_depth=3, n_jobs=4)</pre></div></div></div></div></div>"
      ],
      "text/plain": [
       "RandomForestClassifier(criterion='entropy', max_depth=3, n_jobs=4)"
      ]
     },
     "execution_count": 57,
     "metadata": {},
     "output_type": "execute_result"
    }
   ],
   "source": [
    "random_forest_model = RandomForestClassifier(n_estimators=100, criterion='entropy', max_depth=3, n_jobs=4)\n",
    "random_forest_model.fit(X_train, y_train) "
   ]
  },
  {
   "cell_type": "code",
   "execution_count": 58,
   "metadata": {},
   "outputs": [
    {
     "name": "stdout",
     "output_type": "stream",
     "text": [
      "Training:\n",
      "AUC:0.629\n",
      "accuracy:0.604\n",
      "recall:0.044\n",
      "precision:0.726\n",
      "fscore:0.082\n",
      " \n",
      "Validation:\n",
      "AUC:0.633\n",
      "accuracy:0.602\n",
      "recall:0.044\n",
      "precision:0.703\n",
      "fscore:0.082\n",
      " \n"
     ]
    }
   ],
   "source": [
    "y_train_preds = random_forest_model.predict_proba(X_train)[:,1]\n",
    "y_test_preds = random_forest_model.predict_proba(X_test)[:,1]\n",
    "\n",
    "print('Training:')\n",
    "lr_train_auc, lr_train_accuracy, lr_train_recall, \\\n",
    "    lr_train_precision, lr_train_fscore = get_scores(y_train,y_train_preds)\n",
    "print('Validation:')\n",
    "lr_test_auc, lr_test_accuracy, lr_test_recall, \\\n",
    "    lr_test_precision,lr_test_fscore = get_scores(y_test,y_test_preds)"
   ]
  }
 ],
 "metadata": {
  "colab": {
   "authorship_tag": "ABX9TyO4ucg4CheNoAFSBVclhcGl",
   "provenance": []
  },
  "kernelspec": {
   "display_name": "Python 3",
   "language": "python",
   "name": "python3"
  },
  "language_info": {
   "codemirror_mode": {
    "name": "ipython",
    "version": 3
   },
   "file_extension": ".py",
   "mimetype": "text/x-python",
   "name": "python",
   "nbconvert_exporter": "python",
   "pygments_lexer": "ipython3",
   "version": "3.8.8"
  }
 },
 "nbformat": 4,
 "nbformat_minor": 1
}
